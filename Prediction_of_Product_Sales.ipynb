{
  "nbformat": 4,
  "nbformat_minor": 0,
  "metadata": {
    "colab": {
      "provenance": [],
      "authorship_tag": "ABX9TyNrqizTyJW5yCWO9cptuHh0",
      "include_colab_link": true
    },
    "kernelspec": {
      "name": "python3",
      "display_name": "Python 3"
    },
    "language_info": {
      "name": "python"
    }
  },
  "cells": [
    {
      "cell_type": "markdown",
      "metadata": {
        "id": "view-in-github",
        "colab_type": "text"
      },
      "source": [
        "<a href=\"https://colab.research.google.com/github/eckoecho/Prediction-of-Product-Sales/blob/main/Prediction_of_Product_Sales.ipynb\" target=\"_parent\"><img src=\"https://colab.research.google.com/assets/colab-badge.svg\" alt=\"Open In Colab\"/></a>"
      ]
    },
    {
      "cell_type": "markdown",
      "source": [
        "#Prediction of Product Sales\n",
        "Echo Diaz"
      ],
      "metadata": {
        "id": "aEtrFxk36zJJ"
      }
    },
    {
      "cell_type": "markdown",
      "source": [
        "## Project Overview\n"
      ],
      "metadata": {
        "id": "EsJHR9Wz7Uvd"
      }
    },
    {
      "cell_type": "markdown",
      "source": [
        "## Load and Inspect Data"
      ],
      "metadata": {
        "id": "S57DrZqw7MfK"
      }
    },
    {
      "cell_type": "code",
      "source": [],
      "metadata": {
        "id": "bZIM160Z7QaQ"
      },
      "execution_count": null,
      "outputs": []
    },
    {
      "cell_type": "markdown",
      "source": [
        "## Clean Data"
      ],
      "metadata": {
        "id": "sN2xXOr87Whe"
      }
    },
    {
      "cell_type": "code",
      "source": [],
      "metadata": {
        "id": "54QFqfAB7ijd"
      },
      "execution_count": null,
      "outputs": []
    },
    {
      "cell_type": "markdown",
      "source": [
        "## Exploratory Data Analysis"
      ],
      "metadata": {
        "id": "iaVEDu0o7jZz"
      }
    },
    {
      "cell_type": "code",
      "source": [],
      "metadata": {
        "id": "eWXuhPdn7s70"
      },
      "execution_count": null,
      "outputs": []
    },
    {
      "cell_type": "markdown",
      "source": [
        "## Exploratory Data Analysis"
      ],
      "metadata": {
        "id": "NIJVs-nf7tgU"
      }
    },
    {
      "cell_type": "code",
      "source": [],
      "metadata": {
        "id": "D1SXr5tk7u-z"
      },
      "execution_count": null,
      "outputs": []
    }
  ]
}